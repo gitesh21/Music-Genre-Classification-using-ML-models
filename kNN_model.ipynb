{
  "nbformat": 4,
  "nbformat_minor": 0,
  "metadata": {
    "colab": {
      "provenance": []
    },
    "kernelspec": {
      "name": "python3",
      "display_name": "Python 3"
    },
    "language_info": {
      "name": "python"
    }
  },
  "cells": [
    {
      "cell_type": "code",
      "source": [
        "# pip install -U imbalanced-learn"
      ],
      "metadata": {
        "id": "vDQCrKEBoq9e"
      },
      "execution_count": null,
      "outputs": []
    },
    {
      "cell_type": "code",
      "source": [
        "import numpy as np\n",
        "import pandas as pd\n",
        "from imblearn.over_sampling import SMOTE\n",
        "from sklearn.preprocessing import LabelEncoder, MinMaxScaler\n",
        "from sklearn.model_selection import train_test_split, GridSearchCV\n",
        "from sklearn.neighbors import KNeighborsClassifier\n",
        "from sklearn.metrics import confusion_matrix, classification_report, precision_score, recall_score, f1_score\n",
        "from sklearn.ensemble import RandomForestClassifier, BaggingClassifier\n",
        "from sklearn.feature_selection import RFECV\n",
        "\n",
        "# Load the dataset\n",
        "df = pd.read_csv('gtzan.csv')\n",
        "\n",
        "# Separate features and target\n",
        "music_info = df.drop(['song_name', 'genre'], axis=1)\n",
        "genre_info = df['genre']\n",
        "\n",
        "# Encode the labels into integers\n",
        "le = LabelEncoder()\n",
        "genre_info = le.fit_transform(genre_info)\n",
        "\n",
        "# Split the dataset\n",
        "X_train, X_test, y_train, y_test = train_test_split(music_info, genre_info, test_size=0.2, random_state=42, stratify=genre_info)\n",
        "\n",
        "# Balance classes using SMOTE\n",
        "smote = SMOTE(random_state=42)\n",
        "X_train_smote, y_train_smote = smote.fit_resample(X_train, y_train)\n",
        "\n",
        "# Perform feature scaling post SMOTE\n",
        "scaler = MinMaxScaler()\n",
        "X_train_scaled = scaler.fit_transform(X_train_smote)\n",
        "X_test_scaled = scaler.transform(X_test)\n",
        "\n",
        "# Feature selection\n",
        "selector = RFECV(RandomForestClassifier(), step=1, cv=5)\n",
        "X_train_selected = selector.fit_transform(X_train_scaled, y_train_smote)\n",
        "X_test_selected = selector.transform(X_test_scaled)\n",
        "\n",
        "# Define k-NN model\n",
        "knn = KNeighborsClassifier()\n",
        "\n",
        "param_grid = {\n",
        "    'n_neighbors': np.arange(1, 31),\n",
        "    'weights': ['uniform', 'distance'],\n",
        "    'metric': ['euclidean', 'manhattan']\n",
        "}\n",
        "\n",
        "knn_gscv = GridSearchCV(knn, param_grid, cv=5)\n",
        "knn_gscv.fit(X_train_selected, y_train_smote)\n",
        "\n",
        "print(knn_gscv.best_params_)\n",
        "\n",
        "# Use the best parameters for KNN\n",
        "knn_best = KNeighborsClassifier(\n",
        "    n_neighbors=knn_gscv.best_params_['n_neighbors'],\n",
        "    weights=knn_gscv.best_params_['weights'],\n",
        "    metric=knn_gscv.best_params_['metric']\n",
        ")\n",
        "\n",
        "# Using Bagging with KNN\n",
        "bagged_knn = BaggingClassifier(knn_best, n_estimators=10, random_state=42)\n",
        "bagged_knn.fit(X_train_selected, y_train_smote)\n",
        "\n",
        "y_pred = bagged_knn.predict(X_test_selected)\n",
        "\n",
        "# Evaluation\n",
        "cm = confusion_matrix(y_test, y_pred)\n",
        "print(cm)\n",
        "print(classification_report(y_test, y_pred))\n",
        "\n",
        "precision = precision_score(y_test, y_pred, average='weighted')\n",
        "recall = recall_score(y_test, y_pred, average='weighted')\n",
        "f1 = f1_score(y_test, y_pred, average='weighted')\n",
        "accuracy = np.trace(cm) / float(np.sum(cm))\n",
        "\n",
        "print(f'Precision: {precision}')\n",
        "print(f'Recall: {recall}')\n",
        "print(f'F1 Score: {f1}')\n",
        "print(f'Accuracy: {accuracy}')\n"
      ],
      "metadata": {
        "id": "ps1PRjaZT423",
        "colab": {
          "base_uri": "https://localhost:8080/"
        },
        "outputId": "47d03442-3224-4805-9d6b-a3336be83316"
      },
      "execution_count": null,
      "outputs": [
        {
          "output_type": "stream",
          "name": "stdout",
          "text": [
            "{'metric': 'manhattan', 'n_neighbors': 6, 'weights': 'distance'}\n",
            "[[10  0  3  1  0  1  0  0  2  3]\n",
            " [ 0 19  0  0  0  0  0  1  0  0]\n",
            " [ 1  0 17  1  0  0  0  1  0  0]\n",
            " [ 0  0  1 13  1  0  0  1  3  1]\n",
            " [ 1  0  1  0 14  0  1  0  2  1]\n",
            " [ 1  1  3  0  0 13  0  1  0  1]\n",
            " [ 0  0  0  0  0  1 17  0  1  1]\n",
            " [ 0  0  0  1  2  0  0 16  0  1]\n",
            " [ 0  0  2  0  2  0  1  1 13  1]\n",
            " [ 1  0  5  2  1  1  4  2  2  2]]\n",
            "              precision    recall  f1-score   support\n",
            "\n",
            "           0       0.71      0.50      0.59        20\n",
            "           1       0.95      0.95      0.95        20\n",
            "           2       0.53      0.85      0.65        20\n",
            "           3       0.72      0.65      0.68        20\n",
            "           4       0.70      0.70      0.70        20\n",
            "           5       0.81      0.65      0.72        20\n",
            "           6       0.74      0.85      0.79        20\n",
            "           7       0.70      0.80      0.74        20\n",
            "           8       0.57      0.65      0.60        20\n",
            "           9       0.18      0.10      0.13        20\n",
            "\n",
            "    accuracy                           0.67       200\n",
            "   macro avg       0.66      0.67      0.66       200\n",
            "weighted avg       0.66      0.67      0.66       200\n",
            "\n",
            "Precision: 0.6612076118326118\n",
            "Recall: 0.67\n",
            "F1 Score: 0.656708133828726\n",
            "Accuracy: 0.67\n"
          ]
        }
      ]
    }
  ]
}