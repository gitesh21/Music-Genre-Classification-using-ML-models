{
  "nbformat": 4,
  "nbformat_minor": 0,
  "metadata": {
    "colab": {
      "provenance": []
    },
    "kernelspec": {
      "name": "python3",
      "display_name": "Python 3"
    },
    "language_info": {
      "name": "python"
    }
  },
  "cells": [
    {
      "cell_type": "code",
      "execution_count": null,
      "metadata": {
        "id": "4ZKSrFLrZLOG"
      },
      "outputs": [],
      "source": []
    },
    {
      "cell_type": "code",
      "source": [],
      "metadata": {
        "id": "0XfC0z7HcX4P"
      },
      "execution_count": null,
      "outputs": []
    },
    {
      "cell_type": "markdown",
      "source": [
        "SVM 74.5"
      ],
      "metadata": {
        "id": "tayR5SK_sTVC"
      }
    },
    {
      "cell_type": "code",
      "source": [
        "import numpy as np\n",
        "import pandas as pd\n",
        "from imblearn.over_sampling import SMOTE\n",
        "from sklearn.preprocessing import LabelEncoder, StandardScaler, PolynomialFeatures\n",
        "from sklearn.model_selection import train_test_split, GridSearchCV, StratifiedKFold\n",
        "from sklearn.svm import SVC\n",
        "from sklearn.metrics import confusion_matrix, classification_report, precision_score, recall_score, f1_score\n",
        "from sklearn.ensemble import RandomForestClassifier, VotingClassifier\n",
        "from sklearn.feature_selection import RFECV\n",
        "\n",
        "# Load the dataset\n",
        "df = pd.read_csv('gtzan.csv')\n",
        "\n",
        "# Separate features and target\n",
        "music_info = df.drop(['song_name', 'genre'], axis=1)\n",
        "genre_info = df['genre']\n",
        "\n",
        "# Encode the labels into integers\n",
        "le = LabelEncoder()\n",
        "genre_info = le.fit_transform(genre_info)\n",
        "\n",
        "# Feature Engineering - Create Polynomial Features\n",
        "poly = PolynomialFeatures(degree=2, interaction_only=True)\n",
        "music_info_poly = poly.fit_transform(music_info)\n",
        "\n",
        "# Split the dataset into the training set and test set\n",
        "X_train, X_test, y_train, y_test = train_test_split(music_info_poly, genre_info, test_size=0.2, random_state=42, stratify=genre_info)\n",
        "\n",
        "# Perform feature scaling with StandardScaler\n",
        "scaler = StandardScaler()\n",
        "X_train = scaler.fit_transform(X_train)\n",
        "X_test = scaler.transform(X_test)\n",
        "\n",
        "# Balance classes with SMOTE\n",
        "smote = SMOTE(random_state=42)\n",
        "X_train_smote, y_train_smote = smote.fit_resample(X_train, y_train)\n",
        "\n",
        "# Use feature selection to find important features\n",
        "selector = RFECV(RandomForestClassifier(), step=1, cv=5)\n",
        "X_train = selector.fit_transform(X_train_smote, y_train_smote)\n",
        "X_test = selector.transform(X_test)\n",
        "\n",
        "# SVM model with extended parameter grid\n",
        "param_grid = {'C': [0.01, 0.1, 1, 10, 100, 1000],\n",
        "              'kernel': ['linear', 'rbf', 'poly', 'sigmoid'],\n",
        "              'gamma': [1, 0.5, 0.1, 0.05, 0.01, 0.005, 0.001, 'scale', 'auto'],\n",
        "              'degree': [2, 3, 4]}\n",
        "cv = StratifiedKFold(n_splits=5)\n",
        "\n",
        "svm_gscv = GridSearchCV(SVC(), param_grid, cv=cv)\n",
        "svm_gscv.fit(X_train, y_train_smote)\n",
        "\n",
        "print(svm_gscv.best_params_)\n",
        "\n",
        "# Ensemble: Voting Classifier\n",
        "rf_clf = RandomForestClassifier(n_estimators=100)\n",
        "svm_best = SVC(C=svm_gscv.best_params_['C'],\n",
        "               kernel=svm_gscv.best_params_['kernel'],\n",
        "               gamma=svm_gscv.best_params_['gamma'],\n",
        "               degree=svm_gscv.best_params_['degree'],\n",
        "               probability=True)  # Set probability=True for soft voting\n",
        "\n",
        "voting_clf = VotingClassifier(estimators=[('rf', rf_clf), ('svm', svm_best)], voting='soft')\n",
        "voting_clf.fit(X_train, y_train_smote)\n",
        "\n",
        "y_pred = voting_clf.predict(X_test)\n",
        "\n",
        "# Evaluation\n",
        "cm = confusion_matrix(y_test, y_pred)\n",
        "print(cm)\n",
        "print(classification_report(y_test, y_pred))\n",
        "\n",
        "precision = precision_score(y_test, y_pred, average='weighted')\n",
        "recall = recall_score(y_test, y_pred, average='weighted')\n",
        "f1 = f1_score(y_test, y_pred, average='weighted')\n",
        "accuracy = np.trace(cm) / float(np.sum(cm))\n",
        "\n",
        "print(f'Precision: {precision}')\n",
        "print(f'Recall: {recall}')\n",
        "print(f'F1 Score: {f1}')\n",
        "print(f'Accuracy: {accuracy}')\n"
      ],
      "metadata": {
        "colab": {
          "base_uri": "https://localhost:8080/"
        },
        "id": "IvRYzzW_MpHv",
        "outputId": "323fa806-56bc-4c03-9696-3c86475e3999"
      },
      "execution_count": null,
      "outputs": [
        {
          "output_type": "stream",
          "name": "stdout",
          "text": [
            "{'C': 10, 'gamma': 0.1, 'kernel': 'rbf'}\n",
            "[[15  0  0  0  0  2  0  0  2  1]\n",
            " [ 0 19  0  0  0  0  0  1  0  0]\n",
            " [ 2  0 16  1  1  0  0  0  0  0]\n",
            " [ 0  0  0 17  1  0  0  0  1  1]\n",
            " [ 0  0  1  0 14  0  2  0  1  2]\n",
            " [ 0  1  3  0  0 13  0  0  1  2]\n",
            " [ 1  0  0  0  0  0 14  0  1  4]\n",
            " [ 0  0  0  2  0  0  0 17  1  0]\n",
            " [ 0  0  0  1  1  0  0  1 15  2]\n",
            " [ 3  0  1  2  0  1  0  1  3  9]]\n",
            "              precision    recall  f1-score   support\n",
            "\n",
            "           0       0.71      0.75      0.73        20\n",
            "           1       0.95      0.95      0.95        20\n",
            "           2       0.76      0.80      0.78        20\n",
            "           3       0.74      0.85      0.79        20\n",
            "           4       0.82      0.70      0.76        20\n",
            "           5       0.81      0.65      0.72        20\n",
            "           6       0.88      0.70      0.78        20\n",
            "           7       0.85      0.85      0.85        20\n",
            "           8       0.60      0.75      0.67        20\n",
            "           9       0.43      0.45      0.44        20\n",
            "\n",
            "    accuracy                           0.74       200\n",
            "   macro avg       0.76      0.74      0.75       200\n",
            "weighted avg       0.76      0.74      0.75       200\n",
            "\n",
            "Precision: 0.7554921751309219\n",
            "Recall: 0.745\n",
            "F1 Score: 0.746534061003715\n",
            "Accuracy: 0.745\n"
          ]
        }
      ]
    }
  ]
}