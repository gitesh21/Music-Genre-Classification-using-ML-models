{
  "nbformat": 4,
  "nbformat_minor": 0,
  "metadata": {
    "colab": {
      "provenance": []
    },
    "kernelspec": {
      "name": "python3",
      "display_name": "Python 3"
    },
    "language_info": {
      "name": "python"
    }
  },
  "cells": [
    {
      "cell_type": "code",
      "source": [
        "# Import necessary libraries\n",
        "import os\n",
        "import librosa\n",
        "import pandas as pd\n",
        "import numpy as np\n",
        "from google.colab import drive\n",
        "\n",
        "# Mount Google Drive\n",
        "drive.mount('/content/drive')\n",
        "\n",
        "# Define a function to extract features from an audio file.\n",
        "def extract_features(dataset_path, duration=30):\n",
        "\n",
        "    # Load the audio file with specified duration in mono format\n",
        "    audio_data, sample_rate = librosa.load(dataset_path, mono=True, duration=duration)\n",
        "\n",
        "    # Compute the MFCCs for the audio data (excluding the 1st coefficient)\n",
        "    mfcc_features = librosa.feature.mfcc(y=audio_data, sr=sample_rate, n_mfcc=13)\n",
        "    mfcc_scaled = np.mean(mfcc_features[1:].T, axis=0)\n",
        "\n",
        "    # Compute the Chroma feature for the audio data\n",
        "    chroma = librosa.feature.chroma_stft(y=audio_data, sr=sample_rate)\n",
        "    chroma_scaled = np.mean(chroma.T, axis=0)\n",
        "\n",
        "    # Compute the Spectral Contrast\n",
        "    contrast = librosa.feature.spectral_contrast(y=audio_data, sr=sample_rate)\n",
        "    contrast_scaled = np.mean(contrast.T, axis=0)\n",
        "\n",
        "    # Compute the Tempogram for the audio data\n",
        "    tempogram = librosa.feature.tempogram(y=audio_data, sr=sample_rate)\n",
        "    tempogram_scaled = np.mean(tempogram.T, axis=0)\n",
        "\n",
        "    # Compute RMS Energy\n",
        "    rms_energy = librosa.feature.rms(y=audio_data)\n",
        "    rms_energy_scaled = np.mean(rms_energy)\n",
        "\n",
        "    # Compute Spectral Bandwidth\n",
        "    sp_bandwidth = librosa.feature.spectral_bandwidth(y=audio_data, sr=sample_rate)\n",
        "    sp_bandwidth_scaled = np.mean(sp_bandwidth.T, axis=0)\n",
        "\n",
        "    # Combine all features in one array\n",
        "    features_combined = np.hstack([mfcc_scaled, chroma_scaled, contrast_scaled, tempogram_scaled, rms_energy_scaled, sp_bandwidth_scaled])\n",
        "\n",
        "    return features_combined\n",
        "\n",
        "# Initialize lists to hold song names, song data, and labels\n",
        "audio_data = []\n",
        "track_names = []\n",
        "labels = []\n",
        "\n",
        "# Define the dataset path and genres.\n",
        "dataset_path = '/content/drive/MyDrive/GTZAN/genres_original'\n",
        "genres = ['blues', 'classical', 'country', 'disco', 'hiphop', 'jazz', 'metal', 'pop', 'reggae', 'rock']\n",
        "\n",
        "# Loop over all files in the GTZAN dataset and extract features.\n",
        "for music_genre in genres:\n",
        "    genre_folder = os.path.join(dataset_path, music_genre)\n",
        "    for track in os.listdir(genre_folder):\n",
        "        track_name = os.path.join(genre_folder, track)\n",
        "        track_names.append(track)\n",
        "        labels.append(music_genre)\n",
        "        audio_data.append(extract_features(track_name))\n",
        "\n",
        "# Convert the list into an array\n",
        "song_data = np.array(audio_data)\n",
        "\n",
        "# Create a pandas dataframe.\n",
        "df = pd.DataFrame(data=audio_data)\n",
        "df['song_name'] = track_names\n",
        "df['genre'] = labels\n",
        "\n",
        "# Save the dataframe to csv format\n",
        "df.to_csv('gtzan.csv', index=False)\n"
      ],
      "metadata": {
        "id": "1KL7uBBSwXjw",
        "colab": {
          "base_uri": "https://localhost:8080/"
        },
        "outputId": "c362fb85-483d-4570-ff78-c4803867df2b"
      },
      "execution_count": null,
      "outputs": [
        {
          "output_type": "stream",
          "name": "stdout",
          "text": [
            "Drive already mounted at /content/drive; to attempt to forcibly remount, call drive.mount(\"/content/drive\", force_remount=True).\n"
          ]
        }
      ]
    }
  ]
}